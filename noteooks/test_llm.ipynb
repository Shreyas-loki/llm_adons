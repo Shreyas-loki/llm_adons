{
 "cells": [
  {
   "metadata": {
    "ExecuteTime": {
     "end_time": "2024-08-14T10:30:48.464411Z",
     "start_time": "2024-08-14T10:30:45.558682Z"
    }
   },
   "cell_type": "code",
   "source": [
    "from langchain_chroma import Chroma\n",
    "from langchain_community.document_loaders import DirectoryLoader, PyPDFLoader\n",
    "\n",
    "loader = DirectoryLoader(\"C:\\\\Users\\\\Hammer\\\\PycharmProjects\\\\llm_adons\\\\data\\\\upload\", glob=\"*.pdf\", loader_cls=PyPDFLoader)\n",
    "docs = loader.load()\n",
    "print('.....document_loaded.....')"
   ],
   "id": "61a7a2c386fdc3d7",
   "outputs": [
    {
     "name": "stdout",
     "output_type": "stream",
     "text": [
      ".....document_loaded.....\n"
     ]
    }
   ],
   "execution_count": 1
  },
  {
   "metadata": {
    "ExecuteTime": {
     "end_time": "2024-08-14T10:31:14.658716Z",
     "start_time": "2024-08-14T10:31:14.652716Z"
    }
   },
   "cell_type": "code",
   "source": [
    "AZURE_OPENAI_ENDPOINT=\"https://azureopenai16.openai.azure.com\"\n",
    "AZURE_OPENAI_API_KEY=\"75db73a3b9da40b0b6e0e98273a6029f\"\n",
    "COHERE_API_KEY=\"BWR8YyveaadqsWa8Ty0FM0vEIAysgJgnjhZVkRP1\""
   ],
   "id": "17a6cd2fbd574f18",
   "outputs": [],
   "execution_count": 5
  },
  {
   "metadata": {
    "ExecuteTime": {
     "end_time": "2024-08-14T10:31:17.732581Z",
     "start_time": "2024-08-14T10:31:16.898191Z"
    }
   },
   "cell_type": "code",
   "source": [
    "from langchain_openai.embeddings import AzureOpenAIEmbeddings\n",
    "import chromadb\n",
    "\n",
    "storage_path = \"../vectordb\"\n",
    "\n",
    "chroma_client = chromadb.PersistentClient(storage_path)\n",
    "collection = \"test\"\n",
    "chroma_vector_search_index_name = \"vector_index\"\n",
    "EMBEDDING_MODEL = \"ada0021_6\"  \n",
    "\n",
    "#embedding_function = SentenceTransformerEmbeddings(model_name=\"all-MiniLM-L6-v2\")\n",
    "azure_embeddings = AzureOpenAIEmbeddings(\n",
    "    openai_api_type=\"azure\",\n",
    "    openai_api_version=\"2024-02-01\",\n",
    "    openai_api_key=AZURE_OPENAI_API_KEY,\n",
    "    azure_endpoint=AZURE_OPENAI_ENDPOINT,\n",
    "    model=EMBEDDING_MODEL,\n",
    "    allowed_special={'<|endoftext|>'}\n",
    ")"
   ],
   "id": "159b6574127c3d0c",
   "outputs": [],
   "execution_count": 6
  },
  {
   "metadata": {
    "ExecuteTime": {
     "end_time": "2024-08-14T10:31:18.743348Z",
     "start_time": "2024-08-14T10:31:18.728350Z"
    }
   },
   "cell_type": "code",
   "source": [
    "chunk_size = 1000\n",
    "chunk_overlap = int(0.15*chunk_size)"
   ],
   "id": "1a86b59b3f21fc5c",
   "outputs": [],
   "execution_count": 7
  },
  {
   "metadata": {
    "ExecuteTime": {
     "end_time": "2024-08-14T10:31:21.534949Z",
     "start_time": "2024-08-14T10:31:20.960322Z"
    }
   },
   "cell_type": "code",
   "source": [
    "from rag.chunking import fixed_token_split, recursive_split\n",
    "\n",
    "splits = fixed_token_split(docs, chunk_size, chunk_overlap)\n",
    "print(\"split complete\")"
   ],
   "id": "f73cce7778d4d860",
   "outputs": [
    {
     "name": "stderr",
     "output_type": "stream",
     "text": [
      "USER_AGENT environment variable not set, consider setting it to identify your requests.\n"
     ]
    },
    {
     "name": "stdout",
     "output_type": "stream",
     "text": [
      "split complete\n"
     ]
    }
   ],
   "execution_count": 8
  },
  {
   "metadata": {
    "ExecuteTime": {
     "end_time": "2024-08-14T10:31:24.114026Z",
     "start_time": "2024-08-14T10:31:24.102088Z"
    }
   },
   "cell_type": "code",
   "source": [
    "document = splits[10]\n",
    "print(document.page_content)"
   ],
   "id": "186f7ffdb879eb6c",
   "outputs": [
    {
     "name": "stdout",
     "output_type": "stream",
     "text": [
      "List of Tables\n",
      "1.1 Summary of the UPDRS Item 3.4 (Finger Tapping) rating scale (Goetz et al. 2008) 2\n",
      "3.1 Comparing ResNet and Darknet Variants (Redmon & Farhadi 2018) . . . . . . 39\n",
      "4.1 Hand labelling protocol. Each key point is visualised in Figure 4.4. . . . . . . . 47\n",
      "4.2 Bounding box ground truth annotation format . . . . . . . . . . . . . . . . . . 53\n",
      "4.3 Comparison of object detection models used in this study . . . . . . . . . . . . 61\n",
      "4.4 EfﬁcientNet-B0 Network Architecture with custom top for regression. . . . . . 64\n",
      "4.5 EfﬁcientNet-B4 Network Architecture with custom top for regression. . . . . . 65\n",
      "v\n"
     ]
    }
   ],
   "execution_count": 9
  },
  {
   "metadata": {
    "ExecuteTime": {
     "end_time": "2024-08-14T10:31:48.396210Z",
     "start_time": "2024-08-14T10:31:27.844165Z"
    }
   },
   "cell_type": "code",
   "source": [
    "from rag.ingestion import create_vector_store\n",
    "from langchain_openai.chat_models import AzureChatOpenAI\n",
    "\n",
    "vector_store = create_vector_store(splits)"
   ],
   "id": "f30cde19909ed740",
   "outputs": [
    {
     "name": "stderr",
     "output_type": "stream",
     "text": [
      "C:\\Users\\Hammer\\Anaconda3\\envs\\llama\\lib\\site-packages\\langchain_core\\_api\\deprecation.py:139: LangChainDeprecationWarning: The class `HuggingFaceEmbeddings` was deprecated in LangChain 0.2.2 and will be removed in 0.3.0. An updated version of the class exists in the langchain-huggingface package and should be used instead. To use it run `pip install -U langchain-huggingface` and import as `from langchain_huggingface import HuggingFaceEmbeddings`.\n",
      "  warn_deprecated(\n",
      "C:\\Users\\Hammer\\Anaconda3\\envs\\llama\\lib\\site-packages\\sentence_transformers\\cross_encoder\\CrossEncoder.py:11: TqdmExperimentalWarning: Using `tqdm.autonotebook.tqdm` in notebook mode. Use `tqdm.tqdm` instead to force console mode (e.g. in jupyter console)\n",
      "  from tqdm.autonotebook import tqdm, trange\n"
     ]
    },
    {
     "name": "stdout",
     "output_type": "stream",
     "text": [
      "Added 100 chunks to chroma db\n"
     ]
    }
   ],
   "execution_count": 10
  },
  {
   "metadata": {
    "ExecuteTime": {
     "end_time": "2024-08-14T10:32:12.432992Z",
     "start_time": "2024-08-14T10:32:12.414991Z"
    }
   },
   "cell_type": "code",
   "source": "query = \"What is  Parkinson’s Disease?\"",
   "id": "f498acc60759b91d",
   "outputs": [],
   "execution_count": 11
  },
  {
   "metadata": {
    "ExecuteTime": {
     "end_time": "2024-08-14T10:32:12.868544Z",
     "start_time": "2024-08-14T10:32:12.856546Z"
    }
   },
   "cell_type": "code",
   "source": [
    "PROMPT_TEMPLATE = \"\"\"\n",
    "Answer the question based only on the following context:\n",
    "\n",
    "{context}\n",
    "\n",
    "---\n",
    "\n",
    "Answer the question based on the above context: {question}\n",
    "\"\"\""
   ],
   "id": "af867e821b6a5196",
   "outputs": [],
   "execution_count": 12
  },
  {
   "metadata": {
    "ExecuteTime": {
     "end_time": "2024-08-14T10:13:31.563340Z",
     "start_time": "2024-08-14T10:13:31.549344Z"
    }
   },
   "cell_type": "code",
   "source": [
    "#from langchain_community.embeddings import SentenceTransformerEmbeddings\n",
    "#from langchain_chroma import Chroma\n",
    "\n",
    "# Prepare the database\n",
    "#db = Chroma(persist_directory=storage_path, embedding_function=azure_embeddings)\n",
    "#retrieve = db.as_retriever()\n",
    "#retrieve.get_relevant_documents(query)"
   ],
   "id": "3c2d202a0e927e9f",
   "outputs": [],
   "execution_count": 22
  },
  {
   "metadata": {},
   "cell_type": "code",
   "source": [
    "from rag.retriever import contextualCompressionRetriever\n",
    "\n",
    "retriever = contextualCompressionRetriever(storage_path, azure_embeddings, k=3)\n",
    "retriever.get_relevant_documents(query)"
   ],
   "id": "13ac5435e081bb3c",
   "outputs": [],
   "execution_count": null
  },
  {
   "metadata": {
    "ExecuteTime": {
     "end_time": "2024-08-14T10:37:08.262849Z",
     "start_time": "2024-08-14T10:37:08.001485Z"
    }
   },
   "cell_type": "code",
   "source": [
    "vector_db = Chroma(\n",
    "  persist_directory=\"/vectordb\",\n",
    "  embedding_function=azure_embeddings\n",
    ")\n",
    " \n",
    "retriever = vector_db.as_retriever(search_kwargs={\"k\" : 3})"
   ],
   "id": "90d96c025bb66982",
   "outputs": [],
   "execution_count": 16
  },
  {
   "metadata": {
    "ExecuteTime": {
     "end_time": "2024-08-14T10:37:20.834541Z",
     "start_time": "2024-08-14T10:37:19.702987Z"
    }
   },
   "cell_type": "code",
   "source": "retriever.get_relevant_documents(query)",
   "id": "ce9c48a87103940e",
   "outputs": [
    {
     "data": {
      "text/plain": [
       "[]"
      ]
     },
     "execution_count": 17,
     "metadata": {},
     "output_type": "execute_result"
    }
   ],
   "execution_count": 17
  },
  {
   "metadata": {},
   "cell_type": "code",
   "outputs": [],
   "execution_count": null,
   "source": "",
   "id": "22b27401a753a681"
  },
  {
   "metadata": {
    "ExecuteTime": {
     "end_time": "2024-08-13T14:13:23.517029Z",
     "start_time": "2024-08-13T14:13:23.489994Z"
    }
   },
   "cell_type": "code",
   "source": [
    "from langchain.prompts import ChatPromptTemplate\n",
    "\n",
    "context_text = \"\\n\\n---\\n\\n\".join([doc.page_content for doc, _score in results])\n",
    "prompt_template = ChatPromptTemplate.from_template(PROMPT_TEMPLATE)\n",
    "prompt = prompt_template.format(context=context_text, question=query)\n",
    "print(prompt)"
   ],
   "id": "ca4a390564972224",
   "outputs": [
    {
     "name": "stdout",
     "output_type": "stream",
     "text": [
      "Human: \n",
      "Answer the question based only on the following context:\n",
      "\n",
      "\n",
      "\n",
      "---\n",
      "\n",
      "Answer the question based on the above context: Who is bill Palmer?\n",
      "\n"
     ]
    }
   ],
   "execution_count": 14
  },
  {
   "metadata": {},
   "cell_type": "code",
   "outputs": [],
   "execution_count": null,
   "source": "",
   "id": "406f956826e74086"
  }
 ],
 "metadata": {
  "kernelspec": {
   "display_name": "Python 3",
   "language": "python",
   "name": "python3"
  },
  "language_info": {
   "codemirror_mode": {
    "name": "ipython",
    "version": 2
   },
   "file_extension": ".py",
   "mimetype": "text/x-python",
   "name": "python",
   "nbconvert_exporter": "python",
   "pygments_lexer": "ipython2",
   "version": "2.7.6"
  }
 },
 "nbformat": 4,
 "nbformat_minor": 5
}
