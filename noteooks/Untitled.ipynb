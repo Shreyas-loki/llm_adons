{
 "cells": [
  {
   "metadata": {
    "ExecuteTime": {
     "end_time": "2024-07-30T12:08:51.429566Z",
     "start_time": "2024-07-30T12:08:51.354566Z"
    }
   },
   "cell_type": "code",
   "source": [
    "import chromadb\n",
    "chroma_client = chromadb.Client()"
   ],
   "id": "d7e04b42ff00ac47",
   "outputs": [
    {
     "ename": "RuntimeError",
     "evalue": "Chroma is running in http-only client mode, and can only be run with 'chromadb.api.fastapi.FastAPI' or 'chromadb.api.async_fastapi.AsyncFastAPI' as the chroma_api_impl.             see https://docs.trychroma.com/guides#using-the-python-http-only-client for more information.",
     "output_type": "error",
     "traceback": [
      "\u001B[1;31m---------------------------------------------------------------------------\u001B[0m",
      "\u001B[1;31mRuntimeError\u001B[0m                              Traceback (most recent call last)",
      "Cell \u001B[1;32mIn[9], line 2\u001B[0m\n\u001B[0;32m      1\u001B[0m \u001B[38;5;28;01mimport\u001B[39;00m \u001B[38;5;21;01mchromadb\u001B[39;00m\n\u001B[1;32m----> 2\u001B[0m chroma_client \u001B[38;5;241m=\u001B[39m \u001B[43mchromadb\u001B[49m\u001B[38;5;241;43m.\u001B[39;49m\u001B[43mClient\u001B[49m\u001B[43m(\u001B[49m\u001B[43m)\u001B[49m\n",
      "File \u001B[1;32m~\\Anaconda3\\envs\\llama\\lib\\site-packages\\chromadb\\__init__.py:334\u001B[0m, in \u001B[0;36mClient\u001B[1;34m(settings, tenant, database)\u001B[0m\n\u001B[0;32m    331\u001B[0m tenant \u001B[38;5;241m=\u001B[39m \u001B[38;5;28mstr\u001B[39m(tenant)\n\u001B[0;32m    332\u001B[0m database \u001B[38;5;241m=\u001B[39m \u001B[38;5;28mstr\u001B[39m(database)\n\u001B[1;32m--> 334\u001B[0m \u001B[38;5;28;01mreturn\u001B[39;00m \u001B[43mClientCreator\u001B[49m\u001B[43m(\u001B[49m\u001B[43mtenant\u001B[49m\u001B[38;5;241;43m=\u001B[39;49m\u001B[43mtenant\u001B[49m\u001B[43m,\u001B[49m\u001B[43m \u001B[49m\u001B[43mdatabase\u001B[49m\u001B[38;5;241;43m=\u001B[39;49m\u001B[43mdatabase\u001B[49m\u001B[43m,\u001B[49m\u001B[43m \u001B[49m\u001B[43msettings\u001B[49m\u001B[38;5;241;43m=\u001B[39;49m\u001B[43msettings\u001B[49m\u001B[43m)\u001B[49m\n",
      "File \u001B[1;32m~\\Anaconda3\\envs\\llama\\lib\\site-packages\\chromadb\\api\\client.py:56\u001B[0m, in \u001B[0;36mClient.__init__\u001B[1;34m(self, tenant, database, settings)\u001B[0m\n\u001B[0;32m     50\u001B[0m \u001B[38;5;28;01mdef\u001B[39;00m \u001B[38;5;21m__init__\u001B[39m(\n\u001B[0;32m     51\u001B[0m     \u001B[38;5;28mself\u001B[39m,\n\u001B[0;32m     52\u001B[0m     tenant: \u001B[38;5;28mstr\u001B[39m \u001B[38;5;241m=\u001B[39m DEFAULT_TENANT,\n\u001B[0;32m     53\u001B[0m     database: \u001B[38;5;28mstr\u001B[39m \u001B[38;5;241m=\u001B[39m DEFAULT_DATABASE,\n\u001B[0;32m     54\u001B[0m     settings: Settings \u001B[38;5;241m=\u001B[39m Settings(),\n\u001B[0;32m     55\u001B[0m ) \u001B[38;5;241m-\u001B[39m\u001B[38;5;241m>\u001B[39m \u001B[38;5;28;01mNone\u001B[39;00m:\n\u001B[1;32m---> 56\u001B[0m     \u001B[38;5;28;43msuper\u001B[39;49m\u001B[43m(\u001B[49m\u001B[43m)\u001B[49m\u001B[38;5;241;43m.\u001B[39;49m\u001B[38;5;21;43m__init__\u001B[39;49m\u001B[43m(\u001B[49m\u001B[43msettings\u001B[49m\u001B[38;5;241;43m=\u001B[39;49m\u001B[43msettings\u001B[49m\u001B[43m)\u001B[49m\n\u001B[0;32m     57\u001B[0m     \u001B[38;5;28mself\u001B[39m\u001B[38;5;241m.\u001B[39mtenant \u001B[38;5;241m=\u001B[39m tenant\n\u001B[0;32m     58\u001B[0m     \u001B[38;5;28mself\u001B[39m\u001B[38;5;241m.\u001B[39mdatabase \u001B[38;5;241m=\u001B[39m database\n",
      "File \u001B[1;32m~\\Anaconda3\\envs\\llama\\lib\\site-packages\\chromadb\\api\\shared_system_client.py:19\u001B[0m, in \u001B[0;36mSharedSystemClient.__init__\u001B[1;34m(self, settings)\u001B[0m\n\u001B[0;32m     14\u001B[0m \u001B[38;5;28;01mdef\u001B[39;00m \u001B[38;5;21m__init__\u001B[39m(\n\u001B[0;32m     15\u001B[0m     \u001B[38;5;28mself\u001B[39m,\n\u001B[0;32m     16\u001B[0m     settings: Settings \u001B[38;5;241m=\u001B[39m Settings(),\n\u001B[0;32m     17\u001B[0m ) \u001B[38;5;241m-\u001B[39m\u001B[38;5;241m>\u001B[39m \u001B[38;5;28;01mNone\u001B[39;00m:\n\u001B[0;32m     18\u001B[0m     \u001B[38;5;28mself\u001B[39m\u001B[38;5;241m.\u001B[39m_identifier \u001B[38;5;241m=\u001B[39m SharedSystemClient\u001B[38;5;241m.\u001B[39m_get_identifier_from_settings(settings)\n\u001B[1;32m---> 19\u001B[0m     \u001B[43mSharedSystemClient\u001B[49m\u001B[38;5;241;43m.\u001B[39;49m\u001B[43m_create_system_if_not_exists\u001B[49m\u001B[43m(\u001B[49m\u001B[38;5;28;43mself\u001B[39;49m\u001B[38;5;241;43m.\u001B[39;49m\u001B[43m_identifier\u001B[49m\u001B[43m,\u001B[49m\u001B[43m \u001B[49m\u001B[43msettings\u001B[49m\u001B[43m)\u001B[49m\n",
      "File \u001B[1;32m~\\Anaconda3\\envs\\llama\\lib\\site-packages\\chromadb\\api\\shared_system_client.py:26\u001B[0m, in \u001B[0;36mSharedSystemClient._create_system_if_not_exists\u001B[1;34m(cls, identifier, settings)\u001B[0m\n\u001B[0;32m     21\u001B[0m \u001B[38;5;129m@classmethod\u001B[39m\n\u001B[0;32m     22\u001B[0m \u001B[38;5;28;01mdef\u001B[39;00m \u001B[38;5;21m_create_system_if_not_exists\u001B[39m(\n\u001B[0;32m     23\u001B[0m     \u001B[38;5;28mcls\u001B[39m, identifier: \u001B[38;5;28mstr\u001B[39m, settings: Settings\n\u001B[0;32m     24\u001B[0m ) \u001B[38;5;241m-\u001B[39m\u001B[38;5;241m>\u001B[39m System:\n\u001B[0;32m     25\u001B[0m     \u001B[38;5;28;01mif\u001B[39;00m identifier \u001B[38;5;129;01mnot\u001B[39;00m \u001B[38;5;129;01min\u001B[39;00m \u001B[38;5;28mcls\u001B[39m\u001B[38;5;241m.\u001B[39m_identifier_to_system:\n\u001B[1;32m---> 26\u001B[0m         new_system \u001B[38;5;241m=\u001B[39m \u001B[43mSystem\u001B[49m\u001B[43m(\u001B[49m\u001B[43msettings\u001B[49m\u001B[43m)\u001B[49m\n\u001B[0;32m     27\u001B[0m         \u001B[38;5;28mcls\u001B[39m\u001B[38;5;241m.\u001B[39m_identifier_to_system[identifier] \u001B[38;5;241m=\u001B[39m new_system\n\u001B[0;32m     29\u001B[0m         new_system\u001B[38;5;241m.\u001B[39minstance(ProductTelemetryClient)\n",
      "File \u001B[1;32m~\\Anaconda3\\envs\\llama\\lib\\site-packages\\chromadb\\config.py:326\u001B[0m, in \u001B[0;36mSystem.__init__\u001B[1;34m(self, settings)\u001B[0m\n\u001B[0;32m    320\u001B[0m \u001B[38;5;28;01mif\u001B[39;00m is_thin_client:\n\u001B[0;32m    321\u001B[0m     \u001B[38;5;66;03m# The thin client is a system with only the API component\u001B[39;00m\n\u001B[0;32m    322\u001B[0m     \u001B[38;5;28;01mif\u001B[39;00m settings[\u001B[38;5;124m\"\u001B[39m\u001B[38;5;124mchroma_api_impl\u001B[39m\u001B[38;5;124m\"\u001B[39m] \u001B[38;5;129;01mnot\u001B[39;00m \u001B[38;5;129;01min\u001B[39;00m [\n\u001B[0;32m    323\u001B[0m         \u001B[38;5;124m\"\u001B[39m\u001B[38;5;124mchromadb.api.fastapi.FastAPI\u001B[39m\u001B[38;5;124m\"\u001B[39m,\n\u001B[0;32m    324\u001B[0m         \u001B[38;5;124m\"\u001B[39m\u001B[38;5;124mchromadb.api.async_fastapi.AsyncFastAPI\u001B[39m\u001B[38;5;124m\"\u001B[39m,\n\u001B[0;32m    325\u001B[0m     ]:\n\u001B[1;32m--> 326\u001B[0m         \u001B[38;5;28;01mraise\u001B[39;00m \u001B[38;5;167;01mRuntimeError\u001B[39;00m(\n\u001B[0;32m    327\u001B[0m             \u001B[38;5;124m\"\u001B[39m\u001B[38;5;124mChroma is running in http-only client mode, and can only be run with \u001B[39m\u001B[38;5;124m'\u001B[39m\u001B[38;5;124mchromadb.api.fastapi.FastAPI\u001B[39m\u001B[38;5;124m'\u001B[39m\u001B[38;5;124m or \u001B[39m\u001B[38;5;124m'\u001B[39m\u001B[38;5;124mchromadb.api.async_fastapi.AsyncFastAPI\u001B[39m\u001B[38;5;124m'\u001B[39m\u001B[38;5;124m as the chroma_api_impl. \u001B[39m\u001B[38;5;130;01m\\\u001B[39;00m\n\u001B[0;32m    328\u001B[0m \u001B[38;5;124m    see https://docs.trychroma.com/guides#using-the-python-http-only-client for more information.\u001B[39m\u001B[38;5;124m\"\u001B[39m\n\u001B[0;32m    329\u001B[0m         )\n\u001B[0;32m    330\u001B[0m \u001B[38;5;66;03m# Validate settings don't contain any legacy config values\u001B[39;00m\n\u001B[0;32m    331\u001B[0m \u001B[38;5;28;01mfor\u001B[39;00m key \u001B[38;5;129;01min\u001B[39;00m _legacy_config_keys:\n",
      "\u001B[1;31mRuntimeError\u001B[0m: Chroma is running in http-only client mode, and can only be run with 'chromadb.api.fastapi.FastAPI' or 'chromadb.api.async_fastapi.AsyncFastAPI' as the chroma_api_impl.             see https://docs.trychroma.com/guides#using-the-python-http-only-client for more information."
     ]
    }
   ],
   "execution_count": 9
  },
  {
   "metadata": {},
   "cell_type": "code",
   "outputs": [],
   "execution_count": null,
   "source": "collection = ",
   "id": "cd7f9a7226fb17d2"
  }
 ],
 "metadata": {
  "kernelspec": {
   "name": "python3",
   "language": "python",
   "display_name": "Python 3 (ipykernel)"
  }
 },
 "nbformat": 4,
 "nbformat_minor": 5
}
